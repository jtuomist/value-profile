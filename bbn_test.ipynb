{
 "cells": [
  {
   "cell_type": "code",
   "execution_count": 1,
   "id": "220baa8d-ab4f-42aa-8ca9-574ed4939a90",
   "metadata": {},
   "outputs": [
    {
     "data": {
      "text/plain": [
       "[]"
      ]
     },
     "execution_count": 1,
     "metadata": {},
     "output_type": "execute_result"
    }
   ],
   "source": [
    "import pandas as pd\n",
    "from ipycytoscape import *\n",
    "\n",
    "df = pd.read_csv('data/argum_data_tmp.csv')\n",
    "df['label'] = df['Item']\n",
    "\n",
    "#df = pd.read_csv(\"https://raw.githubusercontent.com/nextstrain/ncov/fe5a7ed1f92af63d6d1d43d0307e4b2620108aaa/data/metadata.tsv\", sep = '\\t')\n",
    "\n",
    "cytoscapeobj = CytoscapeWidget()\n",
    "cytoscapeobj.set_tooltip_source('name')\n",
    "\n",
    "cytoscapeobj.graph.add_graph_from_df(\n",
    "    df=df[:30],\n",
    "    groupby_cols=['Context'],\n",
    "    attribute_list=['Item'],\n",
    "    edges=tuple('Item'),\n",
    "    directed=True\n",
    ")\n",
    "\n",
    "cytoscapeobj.graph.edges"
   ]
  },
  {
   "cell_type": "code",
   "execution_count": 2,
   "id": "90893594-e18c-45fc-be12-17895802180b",
   "metadata": {},
   "outputs": [
    {
     "data": {
      "text/plain": [
       "4    NaN\n",
       "5    3.0\n",
       "6    5.0\n",
       "7    NaN\n",
       "dtype: float64"
      ]
     },
     "execution_count": 2,
     "metadata": {},
     "output_type": "execute_result"
    }
   ],
   "source": [
    "df = pd.DataFrame({\n",
    "    'A': [2, 3, 3, 5],\n",
    "    'B': [5,6,7,8]\n",
    "})\n",
    "df.loc[df.A % 3 == 0, 'B'] = 9\n",
    "df\n",
    "s = pd.Series([1, 2, 3], index=[4, 5, 6])\n",
    "t = pd.Series([1, 2, 3], index=[5, 6, 7])\n",
    "s + t"
   ]
  },
  {
   "cell_type": "code",
   "execution_count": 3,
   "id": "04526313-8b90-4319-9624-c6b83c2a50d8",
   "metadata": {},
   "outputs": [
    {
     "data": {
      "text/plain": [
       "{'nodes': [{'data': {'id': 'n0'}},\n",
       "  {'data': {'id': 'n1'}},\n",
       "  {'data': {'id': 'n2'}},\n",
       "  {'data': {'id': 'n3'}},\n",
       "  {'data': {'id': 'n4'}},\n",
       "  {'data': {'id': 'n5'}},\n",
       "  {'data': {'id': 'n6'}},\n",
       "  {'data': {'id': 'n7'}},\n",
       "  {'data': {'id': 'n8'}},\n",
       "  {'data': {'id': 'n9'}},\n",
       "  {'data': {'id': 'n10'}},\n",
       "  {'data': {'id': 'n11'}},\n",
       "  {'data': {'id': 'n12'}},\n",
       "  {'data': {'id': 'n13'}},\n",
       "  {'data': {'id': 'n14'}},\n",
       "  {'data': {'id': 'n15'}},\n",
       "  {'data': {'id': 'n16'}}],\n",
       " 'edges': [{'data': {'source': 'n0', 'target': 'n1'}},\n",
       "  {'data': {'source': 'n1', 'target': 'n2'}},\n",
       "  {'data': {'source': 'n1', 'target': 'n3'}},\n",
       "  {'data': {'source': 'n4', 'target': 'n5'}},\n",
       "  {'data': {'source': 'n4', 'target': 'n6'}},\n",
       "  {'data': {'source': 'n6', 'target': 'n7'}},\n",
       "  {'data': {'source': 'n6', 'target': 'n8'}},\n",
       "  {'data': {'source': 'n8', 'target': 'n9'}},\n",
       "  {'data': {'source': 'n8', 'target': 'n10'}},\n",
       "  {'data': {'source': 'n11', 'target': 'n12'}},\n",
       "  {'data': {'source': 'n12', 'target': 'n13'}},\n",
       "  {'data': {'source': 'n13', 'target': 'n14'}},\n",
       "  {'data': {'source': 'n13', 'target': 'n15'}}]}"
      ]
     },
     "execution_count": 3,
     "metadata": {},
     "output_type": "execute_result"
    }
   ],
   "source": [
    "import ipycytoscape\n",
    "\n",
    "import json\n",
    "#with open(\"data/concentricData.json\") as fi:\n",
    "#    json_file = json.load(fi)\n",
    "with open(\"data/DAGData.json\") as fi:\n",
    "    json_file = json.load(fi)\n",
    "\n",
    "cytoscapeobj = ipycytoscape.CytoscapeWidget()\n",
    "cytoscapeobj.graph.add_graph_from_json(json_file)\n",
    "\n",
    "cytoscapeobj.set_layout(name='dagre', nodeSpacing=10, edgeLengthVal=10)\n",
    "cytoscapeobj.set_style([{\n",
    "                        'selector': 'node',\n",
    "                        'css': {\n",
    "                            'background-color': '#11479e'\n",
    "                            }\n",
    "                        },\n",
    "                        {\n",
    "                        'selector': 'node:parent',\n",
    "                        'css': {\n",
    "                            'background-opacity': 0.333\n",
    "                            }\n",
    "                        },\n",
    "                        {\n",
    "                            'selector': 'edge',\n",
    "                            'style': {\n",
    "                                'width': 4,\n",
    "                                'line-color': '#9dbaea',\n",
    "                                'target-arrow-shape': 'triangle',\n",
    "                                'target-arrow-color': '#9dbaea',\n",
    "                                'curve-style': 'bezier'\n",
    "                            }\n",
    "                        }])\n",
    "\n",
    "cytoscapeobj.graph.nodes\n",
    "json_file"
   ]
  },
  {
   "cell_type": "code",
   "execution_count": 4,
   "id": "dfcce9d9-76e6-46d6-8a45-357be99be4d6",
   "metadata": {},
   "outputs": [
    {
     "data": {
      "text/plain": [
       "[<TabularCPD representing P(C:3) at 0x7ff0a3dfce20>,\n",
       " <TabularCPD representing P(P:3) at 0x7ff0a3dfcfd0>,\n",
       " <TabularCPD representing P(H:3 | C:3, P:3) at 0x7ff0a3dfc970>]"
      ]
     },
     "execution_count": 4,
     "metadata": {},
     "output_type": "execute_result"
    }
   ],
   "source": [
    "from pgmpy.models import BayesianNetwork\n",
    "from pgmpy.factors.discrete import TabularCPD\n",
    "\n",
    "# Defining the network structure\n",
    "model = BayesianNetwork([(\"C\", \"H\"), (\"P\", \"H\")])\n",
    "\n",
    "# Defining the CPDs:\n",
    "cpd_c = TabularCPD(\"C\", 3, [[0.33], [0.33], [0.33]])\n",
    "cpd_p = TabularCPD(\"P\", 3, [[0.33], [0.33], [0.33]])\n",
    "cpd_h = TabularCPD(\n",
    "    \"H\",\n",
    "    3,\n",
    "    [\n",
    "        [0, 0, 0, 0, 0.5, 1, 0, 1, 0.5],\n",
    "        [0.5, 0, 1, 0, 0, 0, 1, 0, 0.5],\n",
    "        [0.5, 1, 0, 1, 0.5, 0, 0, 0, 0],\n",
    "    ],\n",
    "    evidence=[\"C\", \"P\"],\n",
    "    evidence_card=[3, 3],\n",
    ")\n",
    "\n",
    "# Associating the CPDs with the network structure.\n",
    "model.add_cpds(cpd_c, cpd_p, cpd_h)\n",
    "\n",
    "# Some other methods\n",
    "model.get_cpds()"
   ]
  },
  {
   "cell_type": "code",
   "execution_count": 5,
   "id": "b22c353e-3179-47a1-abdc-0e6a6fb5375e",
   "metadata": {},
   "outputs": [
    {
     "data": {
      "text/plain": [
       "True"
      ]
     },
     "execution_count": 5,
     "metadata": {},
     "output_type": "execute_result"
    }
   ],
   "source": [
    "# check_model check for the model structure and the associated CPD and returns True if everything is correct otherwise throws an exception\n",
    "model.check_model()\n",
    "\n"
   ]
  },
  {
   "cell_type": "code",
   "execution_count": 6,
   "id": "3a915757-345f-47d7-8a55-f61568c98e3e",
   "metadata": {},
   "outputs": [
    {
     "data": {
      "application/vnd.jupyter.widget-view+json": {
       "model_id": "6aebce8c3a054303afb355e484b0a92b",
       "version_major": 2,
       "version_minor": 0
      },
      "text/plain": [
       "0it [00:00, ?it/s]"
      ]
     },
     "metadata": {},
     "output_type": "display_data"
    },
    {
     "data": {
      "application/vnd.jupyter.widget-view+json": {
       "model_id": "65d72a0f5f7b487c8869c765615047b1",
       "version_major": 2,
       "version_minor": 0
      },
      "text/plain": [
       "0it [00:00, ?it/s]"
      ]
     },
     "metadata": {},
     "output_type": "display_data"
    },
    {
     "name": "stdout",
     "output_type": "stream",
     "text": [
      "+------+----------+\n",
      "| P    |   phi(P) |\n",
      "+======+==========+\n",
      "| P(0) |   0.3333 |\n",
      "+------+----------+\n",
      "| P(1) |   0.6667 |\n",
      "+------+----------+\n",
      "| P(2) |   0.0000 |\n",
      "+------+----------+\n"
     ]
    }
   ],
   "source": [
    "# Infering the posterior probability\n",
    "from pgmpy.inference import VariableElimination\n",
    "\n",
    "infer = VariableElimination(model)\n",
    "posterior_p = infer.query([\"P\"], evidence={\"C\": 0, \"H\": 2})\n",
    "print(posterior_p)"
   ]
  },
  {
   "cell_type": "code",
   "execution_count": null,
   "id": "65cb046a-ec23-4e4a-8ac1-ffde49681035",
   "metadata": {},
   "outputs": [],
   "source": []
  }
 ],
 "metadata": {
  "kernelspec": {
   "display_name": "Python 3 (ipykernel)",
   "language": "python",
   "name": "python3"
  },
  "language_info": {
   "codemirror_mode": {
    "name": "ipython",
    "version": 3
   },
   "file_extension": ".py",
   "mimetype": "text/x-python",
   "name": "python",
   "nbconvert_exporter": "python",
   "pygments_lexer": "ipython3",
   "version": "3.9.6"
  }
 },
 "nbformat": 4,
 "nbformat_minor": 5
}
